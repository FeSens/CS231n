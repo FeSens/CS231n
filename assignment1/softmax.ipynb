{
 "cells": [
  {
   "cell_type": "markdown",
   "metadata": {},
   "source": [
    "# Softmax exercise\n",
    "\n",
    "*Complete and hand in this completed worksheet (including its outputs and any supporting code outside of the worksheet) with your assignment submission. For more details see the [assignments page](http://vision.stanford.edu/teaching/cs231n/assignments.html) on the course website.*\n",
    "\n",
    "This exercise is analogous to the SVM exercise. You will:\n",
    "\n",
    "- implement a fully-vectorized **loss function** for the Softmax classifier\n",
    "- implement the fully-vectorized expression for its **analytic gradient**\n",
    "- **check your implementation** with numerical gradient\n",
    "- use a validation set to **tune the learning rate and regularization** strength\n",
    "- **optimize** the loss function with **SGD**\n",
    "- **visualize** the final learned weights\n"
   ]
  },
  {
   "cell_type": "code",
   "execution_count": 1,
   "metadata": {
    "collapsed": false
   },
   "outputs": [],
   "source": [
    "import random\n",
    "import numpy as np\n",
    "from cs231n.data_utils import load_CIFAR10\n",
    "import matplotlib.pyplot as plt\n",
    "%matplotlib inline\n",
    "plt.rcParams['figure.figsize'] = (10.0, 8.0) # set default size of plots\n",
    "plt.rcParams['image.interpolation'] = 'nearest'\n",
    "plt.rcParams['image.cmap'] = 'gray'\n",
    "\n",
    "# for auto-reloading extenrnal modules\n",
    "# see http://stackoverflow.com/questions/1907993/autoreload-of-modules-in-ipython\n",
    "%load_ext autoreload\n",
    "%autoreload 2"
   ]
  },
  {
   "cell_type": "code",
   "execution_count": 2,
   "metadata": {
    "collapsed": false
   },
   "outputs": [
    {
     "name": "stdout",
     "output_type": "stream",
     "text": [
      "Train data shape:  (49000, 3073)\n",
      "Train labels shape:  (49000,)\n",
      "Validation data shape:  (1000, 3073)\n",
      "Validation labels shape:  (1000,)\n",
      "Test data shape:  (1000, 3073)\n",
      "Test labels shape:  (1000,)\n",
      "dev data shape:  (500, 3073)\n",
      "dev labels shape:  (500,)\n"
     ]
    }
   ],
   "source": [
    "def get_CIFAR10_data(num_training=49000, num_validation=1000, num_test=1000, num_dev=500):\n",
    "  \"\"\"\n",
    "  Load the CIFAR-10 dataset from disk and perform preprocessing to prepare\n",
    "  it for the linear classifier. These are the same steps as we used for the\n",
    "  SVM, but condensed to a single function.  \n",
    "  \"\"\"\n",
    "  # Load the raw CIFAR-10 data\n",
    "  cifar10_dir = 'cs231n/datasets/cifar-10-batches-py'\n",
    "  X_train, y_train, X_test, y_test = load_CIFAR10(cifar10_dir)\n",
    "  \n",
    "  # subsample the data\n",
    "  mask = range(num_training, num_training + num_validation)\n",
    "  X_val = X_train[mask]\n",
    "  y_val = y_train[mask]\n",
    "  mask = range(num_training)\n",
    "  X_train = X_train[mask]\n",
    "  y_train = y_train[mask]\n",
    "  mask = range(num_test)\n",
    "  X_test = X_test[mask]\n",
    "  y_test = y_test[mask]\n",
    "  mask = np.random.choice(num_training, num_dev, replace=False)\n",
    "  X_dev = X_train[mask]\n",
    "  y_dev = y_train[mask]\n",
    "  \n",
    "  # Preprocessing: reshape the image data into rows\n",
    "  X_train = np.reshape(X_train, (X_train.shape[0], -1))\n",
    "  X_val = np.reshape(X_val, (X_val.shape[0], -1))\n",
    "  X_test = np.reshape(X_test, (X_test.shape[0], -1))\n",
    "  X_dev = np.reshape(X_dev, (X_dev.shape[0], -1))\n",
    "  \n",
    "  # Normalize the data: subtract the mean image\n",
    "  mean_image = np.mean(X_train, axis = 0)\n",
    "  X_train -= mean_image\n",
    "  X_val -= mean_image\n",
    "  X_test -= mean_image\n",
    "  X_dev -= mean_image\n",
    "  \n",
    "  # add bias dimension and transform into columns\n",
    "  X_train = np.hstack([X_train, np.ones((X_train.shape[0], 1))])\n",
    "  X_val = np.hstack([X_val, np.ones((X_val.shape[0], 1))])\n",
    "  X_test = np.hstack([X_test, np.ones((X_test.shape[0], 1))])\n",
    "  X_dev = np.hstack([X_dev, np.ones((X_dev.shape[0], 1))])\n",
    "  \n",
    "  return X_train, y_train, X_val, y_val, X_test, y_test, X_dev, y_dev\n",
    "\n",
    "\n",
    "# Invoke the above function to get our data.\n",
    "X_train, y_train, X_val, y_val, X_test, y_test, X_dev, y_dev = get_CIFAR10_data()\n",
    "print 'Train data shape: ', X_train.shape\n",
    "print 'Train labels shape: ', y_train.shape\n",
    "print 'Validation data shape: ', X_val.shape\n",
    "print 'Validation labels shape: ', y_val.shape\n",
    "print 'Test data shape: ', X_test.shape\n",
    "print 'Test labels shape: ', y_test.shape\n",
    "print 'dev data shape: ', X_dev.shape\n",
    "print 'dev labels shape: ', y_dev.shape"
   ]
  },
  {
   "cell_type": "markdown",
   "metadata": {},
   "source": [
    "## Softmax Classifier\n",
    "\n",
    "Your code for this section will all be written inside **cs231n/classifiers/softmax.py**. \n"
   ]
  },
  {
   "cell_type": "code",
   "execution_count": 3,
   "metadata": {
    "collapsed": false
   },
   "outputs": [
    {
     "name": "stdout",
     "output_type": "stream",
     "text": [
      "loss: 2.332466\n",
      "sanity check: 2.302585\n"
     ]
    }
   ],
   "source": [
    "# First implement the naive softmax loss function with nested loops.\n",
    "# Open the file cs231n/classifiers/softmax.py and implement the\n",
    "# softmax_loss_naive function.\n",
    "\n",
    "from cs231n.classifiers.softmax import softmax_loss_naive\n",
    "import time\n",
    "\n",
    "# Generate a random softmax weight matrix and use it to compute the loss.\n",
    "W = np.random.randn(3073, 10) * 0.0001\n",
    "loss, grad = softmax_loss_naive(W, X_dev, y_dev, 0.0)\n",
    "\n",
    "# As a rough sanity check, our loss should be something close to -log(0.1).\n",
    "print 'loss: %f' % loss\n",
    "print 'sanity check: %f' % (-np.log(0.1))"
   ]
  },
  {
   "cell_type": "markdown",
   "metadata": {},
   "source": [
    "## Inline Question 1:\n",
    "Why do we expect our loss to be close to -log(0.1)? Explain briefly.**\n",
    "\n",
    "**Your answer:** *Fill this in*\n"
   ]
  },
  {
   "cell_type": "code",
   "execution_count": 4,
   "metadata": {
    "collapsed": false
   },
   "outputs": [
    {
     "name": "stdout",
     "output_type": "stream",
     "text": [
      "numerical: -2.257618 analytic: -2.257619, relative error: 2.380957e-08\n",
      "numerical: 0.665127 analytic: 0.665127, relative error: 2.161847e-08\n",
      "numerical: -0.246272 analytic: -0.246272, relative error: 9.588952e-08\n",
      "numerical: 1.672538 analytic: 1.672538, relative error: 2.149055e-09\n",
      "numerical: 1.395530 analytic: 1.395530, relative error: 4.974385e-09\n",
      "numerical: -2.156227 analytic: -2.156228, relative error: 4.756885e-08\n",
      "numerical: -2.022136 analytic: -2.022136, relative error: 2.112889e-10\n",
      "numerical: -1.254914 analytic: -1.254914, relative error: 1.107103e-08\n",
      "numerical: -0.432831 analytic: -0.432831, relative error: 7.337324e-08\n",
      "numerical: 3.384161 analytic: 3.384161, relative error: 2.389104e-09\n",
      "numerical: -1.649530 analytic: -1.649530, relative error: 2.124854e-08\n",
      "numerical: 2.421430 analytic: 2.421430, relative error: 9.098292e-09\n",
      "numerical: -0.351970 analytic: -0.351970, relative error: 1.241250e-07\n",
      "numerical: -0.860250 analytic: -0.860250, relative error: 3.170098e-08\n",
      "numerical: 1.110038 analytic: 1.110038, relative error: 4.407091e-09\n",
      "numerical: 0.782381 analytic: 0.782381, relative error: 2.678288e-09\n",
      "numerical: -0.688110 analytic: -0.688110, relative error: 1.979040e-08\n",
      "numerical: 0.266982 analytic: 0.266982, relative error: 3.858442e-08\n",
      "numerical: -1.513320 analytic: -1.513320, relative error: 9.984437e-09\n",
      "numerical: 0.632344 analytic: 0.632344, relative error: 1.641114e-07\n"
     ]
    }
   ],
   "source": [
    "# Complete the implementation of softmax_loss_naive and implement a (naive)\n",
    "# version of the gradient that uses nested loops.\n",
    "loss, grad = softmax_loss_naive(W, X_dev, y_dev, 0.0)\n",
    "\n",
    "# As we did for the SVM, use numeric gradient checking as a debugging tool.\n",
    "# The numeric gradient should be close to the analytic gradient.\n",
    "from cs231n.gradient_check import grad_check_sparse\n",
    "f = lambda w: softmax_loss_naive(w, X_dev, y_dev, 0.0)[0]\n",
    "grad_numerical = grad_check_sparse(f, W, grad, 10)\n",
    "\n",
    "# similar to SVM case, do another gradient check with regularization\n",
    "loss, grad = softmax_loss_naive(W, X_dev, y_dev, 1e2)\n",
    "f = lambda w: softmax_loss_naive(w, X_dev, y_dev, 1e2)[0]\n",
    "grad_numerical = grad_check_sparse(f, W, grad, 10)"
   ]
  },
  {
   "cell_type": "code",
   "execution_count": 5,
   "metadata": {
    "collapsed": false
   },
   "outputs": [
    {
     "name": "stdout",
     "output_type": "stream",
     "text": [
      "naive loss: 2.332466e+00 computed in 0.050907s\n",
      "vectorized loss: 2.332466e+00 computed in 0.009551s\n",
      "Loss difference: 0.000000\n",
      "Gradient difference: 0.000000\n"
     ]
    }
   ],
   "source": [
    "# Now that we have a naive implementation of the softmax loss function and its gradient,\n",
    "# implement a vectorized version in softmax_loss_vectorized.\n",
    "# The two versions should compute the same results, but the vectorized version should be\n",
    "# much faster.\n",
    "tic = time.time()\n",
    "loss_naive, grad_naive = softmax_loss_naive(W, X_dev, y_dev, 0.00001)\n",
    "toc = time.time()\n",
    "print 'naive loss: %e computed in %fs' % (loss_naive, toc - tic)\n",
    "\n",
    "from cs231n.classifiers.softmax import softmax_loss_vectorized\n",
    "tic = time.time()\n",
    "loss_vectorized, grad_vectorized = softmax_loss_vectorized(W, X_dev, y_dev, 0.00001)\n",
    "toc = time.time()\n",
    "print 'vectorized loss: %e computed in %fs' % (loss_vectorized, toc - tic)\n",
    "\n",
    "# As we did for the SVM, we use the Frobenius norm to compare the two versions\n",
    "# of the gradient.\n",
    "grad_difference = np.linalg.norm(grad_naive - grad_vectorized, ord='fro')\n",
    "print 'Loss difference: %f' % np.abs(loss_naive - loss_vectorized)\n",
    "print 'Gradient difference: %f' % grad_difference"
   ]
  },
  {
   "cell_type": "code",
   "execution_count": 6,
   "metadata": {
    "collapsed": false
   },
   "outputs": [
    {
     "name": "stdout",
     "output_type": "stream",
     "text": [
      "iteration 0 / 1500: loss 13.129615\n",
      "iteration 100 / 1500: loss 17.927623\n",
      "iteration 200 / 1500: loss 21.424738\n",
      "iteration 300 / 1500: loss 34.721237\n",
      "iteration 400 / 1500: loss 24.332548\n",
      "iteration 500 / 1500: loss 25.988387\n",
      "iteration 600 / 1500: loss 25.946087\n",
      "iteration 700 / 1500: loss 12.337417\n",
      "iteration 800 / 1500: loss 12.729739\n",
      "iteration 900 / 1500: loss 14.598879\n",
      "iteration 1000 / 1500: loss 13.880221\n",
      "iteration 1100 / 1500: loss 15.074483\n",
      "iteration 1200 / 1500: loss 13.209656\n",
      "iteration 1300 / 1500: loss 19.314929\n",
      "iteration 1400 / 1500: loss 16.310716\n",
      "iteration 0 / 1500: loss 29.688620\n",
      "iteration 100 / 1500: loss 31.923944\n",
      "iteration 200 / 1500: loss 38.980083\n",
      "iteration 300 / 1500: loss 23.038825\n",
      "iteration 400 / 1500: loss 37.552842\n",
      "iteration 500 / 1500: loss 27.702156\n",
      "iteration 600 / 1500: loss 25.822704\n",
      "iteration 700 / 1500: loss 27.546883\n",
      "iteration 800 / 1500: loss 31.888329\n",
      "iteration 900 / 1500: loss 33.381836\n",
      "iteration 1000 / 1500: loss 29.063576\n",
      "iteration 1100 / 1500: loss 22.789632\n",
      "iteration 1200 / 1500: loss 27.345720\n",
      "iteration 1300 / 1500: loss 34.989735\n",
      "iteration 1400 / 1500: loss 30.682779\n",
      "iteration 0 / 1500: loss 19.361168\n",
      "iteration 100 / 1500: loss 42.580903\n",
      "iteration 200 / 1500: loss 40.615509\n",
      "iteration 300 / 1500: loss 59.663783\n",
      "iteration 400 / 1500: loss 52.642513\n",
      "iteration 500 / 1500: loss 34.836050\n",
      "iteration 600 / 1500: loss 50.874256\n",
      "iteration 700 / 1500: loss 53.938329\n",
      "iteration 800 / 1500: loss 34.179262\n",
      "iteration 900 / 1500: loss 51.938239\n",
      "iteration 1000 / 1500: loss 38.161693\n",
      "iteration 1100 / 1500: loss 34.946290\n",
      "iteration 1200 / 1500: loss 34.433712\n",
      "iteration 1300 / 1500: loss 25.736219\n",
      "iteration 1400 / 1500: loss 35.030574\n",
      "iteration 0 / 1500: loss 54.228068\n"
     ]
    },
    {
     "name": "stderr",
     "output_type": "stream",
     "text": [
      "cs231n/classifiers/softmax.py:87: RuntimeWarning: divide by zero encountered in log\n",
      "  score_cc = -np.log(p[range(num_train),y])\n"
     ]
    },
    {
     "name": "stdout",
     "output_type": "stream",
     "text": [
      "iteration 100 / 1500: loss 76.853155\n",
      "iteration 200 / 1500: loss 86.776515\n",
      "iteration 300 / 1500: loss 109.320212\n",
      "iteration 400 / 1500: loss 94.326500\n",
      "iteration 500 / 1500: loss 65.629006\n",
      "iteration 600 / 1500: loss 53.329624\n",
      "iteration 700 / 1500: loss 57.897316\n",
      "iteration 800 / 1500: loss 51.559782\n",
      "iteration 900 / 1500: loss 92.447898\n",
      "iteration 1000 / 1500: loss 47.322488\n",
      "iteration 1100 / 1500: loss 72.457958\n",
      "iteration 1200 / 1500: loss 75.505360\n",
      "iteration 1300 / 1500: loss 53.143792\n",
      "iteration 1400 / 1500: loss 79.372532\n",
      "lr 5.000000e-05 reg 5.000000e+02 train accuracy: 0.218755 val accuracy: 0.222000\n",
      "lr 5.000000e-05 reg 5.000000e+03 train accuracy: 0.161367 val accuracy: 0.156000\n",
      "lr 1.000000e-04 reg 5.000000e+02 train accuracy: 0.202633 val accuracy: 0.213000\n",
      "lr 1.000000e-04 reg 5.000000e+03 train accuracy: 0.164918 val accuracy: 0.170000\n",
      "best validation accuracy achieved during cross-validation: 0.222000\n"
     ]
    }
   ],
   "source": [
    "# Use the validation set to tune hyperparameters (regularization strength and\n",
    "# learning rate). You should experiment with different ranges for the learning\n",
    "# rates and regularization strengths; if you are careful you should be able to\n",
    "# get a classification accuracy of over 0.35 on the validation set.\n",
    "from cs231n.classifiers import Softmax\n",
    "results = {}\n",
    "best_val = -1\n",
    "best_softmax = None\n",
    "learning_rates = [5e-5, 1e-4]\n",
    "regularization_strengths = [5e2, 5e3]\n",
    "softmax = Softmax()\n",
    "for l in learning_rates:\n",
    "    for r in regularization_strengths:\n",
    "        results[(l,r)] = []\n",
    "        loss_hist = softmax.train(X_train, y_train, learning_rate=l, reg=r,\n",
    "                      num_iters=1500, verbose=True)\n",
    "        y_train_pred = softmax.predict(X_train)\n",
    "        y_val_pred = softmax.predict(X_val)\n",
    "        results[(l,r)].append(np.mean(y_train == y_train_pred))\n",
    "        results[(l,r)].append(np.mean(y_val == y_val_pred))\n",
    "        if np.mean(y_val == y_val_pred) > best_val:\n",
    "            best_val = np.mean(y_val == y_val_pred)\n",
    "            best_softmax = softmax\n",
    "\n",
    "################################################################################\n",
    "# TODO:                                                                        #\n",
    "# Use the validation set to set the learning rate and regularization strength. #\n",
    "# This should be identical to the validation that you did for the SVM; save    #\n",
    "# the best trained softmax classifer in best_softmax.                          #\n",
    "################################################################################\n",
    "pass\n",
    "################################################################################\n",
    "#                              END OF YOUR CODE                                #\n",
    "################################################################################\n",
    "    \n",
    "# Print out results.\n",
    "for lr, reg in sorted(results):\n",
    "    train_accuracy, val_accuracy = results[(lr, reg)]\n",
    "    print 'lr %e reg %e train accuracy: %f val accuracy: %f' % (\n",
    "                lr, reg, train_accuracy, val_accuracy)\n",
    "    \n",
    "print 'best validation accuracy achieved during cross-validation: %f' % best_val"
   ]
  },
  {
   "cell_type": "code",
   "execution_count": 7,
   "metadata": {
    "collapsed": false
   },
   "outputs": [
    {
     "name": "stdout",
     "output_type": "stream",
     "text": [
      "softmax on raw pixels final test set accuracy: 0.177000\n"
     ]
    }
   ],
   "source": [
    "# evaluate on test set\n",
    "# Evaluate the best softmax on test set\n",
    "y_test_pred = best_softmax.predict(X_test)\n",
    "test_accuracy = np.mean(y_test == y_test_pred)\n",
    "print 'softmax on raw pixels final test set accuracy: %f' % (test_accuracy, )"
   ]
  },
  {
   "cell_type": "code",
   "execution_count": 8,
   "metadata": {
    "collapsed": false
   },
   "outputs": [
    {
     "data": {
      "image/png": "[encoded data removed]",
      "text/plain": [
       "<matplotlib.figure.Figure at 0x7fc4d9157c10>"
      ]
     },
     "metadata": {},
     "output_type": "display_data"
    }
   ],
   "source": [
    "# Visualize the learned weights for each class\n",
    "w = best_softmax.W[:-1,:] # strip out the bias\n",
    "w = w.reshape(32, 32, 3, 10)\n",
    "\n",
    "w_min, w_max = np.min(w), np.max(w)\n",
    "\n",
    "classes = ['plane', 'car', 'bird', 'cat', 'deer', 'dog', 'frog', 'horse', 'ship', 'truck']\n",
    "for i in xrange(10):\n",
    "  plt.subplot(2, 5, i + 1)\n",
    "  \n",
    "  # Rescale the weights to be between 0 and 255\n",
    "  wimg = 255.0 * (w[:, :, :, i].squeeze() - w_min) / (w_max - w_min)\n",
    "  plt.imshow(wimg.astype('uint8'))\n",
    "  plt.axis('off')\n",
    "  plt.title(classes[i])"
   ]
  }
 ],
 "metadata": {
  "kernelspec": {
   "display_name": "Python 2",
   "language": "python",
   "name": "python2"
  },
  "language_info": {
   "codemirror_mode": {
    "name": "ipython",
    "version": 2
   },
   "file_extension": ".py",
   "mimetype": "text/x-python",
   "name": "python",
   "nbconvert_exporter": "python",
   "pygments_lexer": "ipython2",
   "version": "2.7.12"
  }
 },
 "nbformat": 4,
 "nbformat_minor": 0
}
